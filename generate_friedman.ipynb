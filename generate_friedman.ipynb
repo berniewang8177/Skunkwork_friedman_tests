{
 "cells": [
  {
   "cell_type": "code",
   "execution_count": 10,
   "metadata": {},
   "outputs": [],
   "source": [
    "# author: Angelo, Yiqi (ywang2536@wisc.edu)\n"
   ]
  },
  {
   "cell_type": "code",
   "execution_count": 18,
   "metadata": {},
   "outputs": [],
   "source": [
    "from sklearn.datasets import make_friedman1\n",
    "import pandas as pd\n",
    "import numpy as np"
   ]
  },
  {
   "cell_type": "code",
   "execution_count": 19,
   "metadata": {},
   "outputs": [],
   "source": [
    "size = 6000 # number of instances of friedman data"
   ]
  },
  {
   "cell_type": "code",
   "execution_count": 20,
   "metadata": {},
   "outputs": [],
   "source": [
    "def friedman_np_to_df(X,y):\n",
    "    return pd.DataFrame(X,columns=['x0','x1', 'x2', 'x3', 'x4']), pd.Series(y)\n",
    "# Make training set with n_samples = size.\n",
    "train, y1 = make_friedman1(n_samples=size, n_features=5, random_state = 1) \n",
    "train, y1 = friedman_np_to_df(train,y1)\n",
    "train['y'] = y1 \n",
    "#categorize training set based off of x0\n",
    "# domain_list = []\n",
    "# for i in range(len(train)):\n",
    "#     if train.iloc[i]['x0'] < 0.5:\n",
    "#         # label as 0 so that MASTML treat as train data\n",
    "#         domain_list.append(0)\n",
    "#     else:\n",
    "#         # label as 1 so that MASTML treat as test data\n",
    "#         domain_list.append(1)\n",
    "# train['test'] = domain_list\n",
    "# train =  train[train['test'] == 0]"
   ]
  },
  {
   "cell_type": "code",
   "execution_count": 21,
   "metadata": {},
   "outputs": [
    {
     "data": {
      "text/html": [
       "<div>\n",
       "<style scoped>\n",
       "    .dataframe tbody tr th:only-of-type {\n",
       "        vertical-align: middle;\n",
       "    }\n",
       "\n",
       "    .dataframe tbody tr th {\n",
       "        vertical-align: top;\n",
       "    }\n",
       "\n",
       "    .dataframe thead th {\n",
       "        text-align: right;\n",
       "    }\n",
       "</style>\n",
       "<table border=\"1\" class=\"dataframe\">\n",
       "  <thead>\n",
       "    <tr style=\"text-align: right;\">\n",
       "      <th></th>\n",
       "      <th>x0</th>\n",
       "      <th>x1</th>\n",
       "      <th>x2</th>\n",
       "      <th>x3</th>\n",
       "      <th>x4</th>\n",
       "      <th>y</th>\n",
       "    </tr>\n",
       "  </thead>\n",
       "  <tbody>\n",
       "    <tr>\n",
       "      <th>0</th>\n",
       "      <td>0.417022</td>\n",
       "      <td>0.720324</td>\n",
       "      <td>0.000114</td>\n",
       "      <td>0.302333</td>\n",
       "      <td>0.146756</td>\n",
       "      <td>16.852205</td>\n",
       "    </tr>\n",
       "    <tr>\n",
       "      <th>1</th>\n",
       "      <td>0.092339</td>\n",
       "      <td>0.186260</td>\n",
       "      <td>0.345561</td>\n",
       "      <td>0.396767</td>\n",
       "      <td>0.538817</td>\n",
       "      <td>7.678848</td>\n",
       "    </tr>\n",
       "    <tr>\n",
       "      <th>2</th>\n",
       "      <td>0.419195</td>\n",
       "      <td>0.685220</td>\n",
       "      <td>0.204452</td>\n",
       "      <td>0.878117</td>\n",
       "      <td>0.027388</td>\n",
       "      <td>18.513197</td>\n",
       "    </tr>\n",
       "    <tr>\n",
       "      <th>3</th>\n",
       "      <td>0.670468</td>\n",
       "      <td>0.417305</td>\n",
       "      <td>0.558690</td>\n",
       "      <td>0.140387</td>\n",
       "      <td>0.198101</td>\n",
       "      <td>10.164178</td>\n",
       "    </tr>\n",
       "    <tr>\n",
       "      <th>4</th>\n",
       "      <td>0.800745</td>\n",
       "      <td>0.968262</td>\n",
       "      <td>0.313424</td>\n",
       "      <td>0.692323</td>\n",
       "      <td>0.876389</td>\n",
       "      <td>18.487972</td>\n",
       "    </tr>\n",
       "    <tr>\n",
       "      <th>...</th>\n",
       "      <td>...</td>\n",
       "      <td>...</td>\n",
       "      <td>...</td>\n",
       "      <td>...</td>\n",
       "      <td>...</td>\n",
       "      <td>...</td>\n",
       "    </tr>\n",
       "    <tr>\n",
       "      <th>5995</th>\n",
       "      <td>0.268587</td>\n",
       "      <td>0.543491</td>\n",
       "      <td>0.970639</td>\n",
       "      <td>0.514137</td>\n",
       "      <td>0.957426</td>\n",
       "      <td>18.785388</td>\n",
       "    </tr>\n",
       "    <tr>\n",
       "      <th>5996</th>\n",
       "      <td>0.164946</td>\n",
       "      <td>0.827352</td>\n",
       "      <td>0.120207</td>\n",
       "      <td>0.678607</td>\n",
       "      <td>0.315369</td>\n",
       "      <td>15.404909</td>\n",
       "    </tr>\n",
       "    <tr>\n",
       "      <th>5997</th>\n",
       "      <td>0.285435</td>\n",
       "      <td>0.237089</td>\n",
       "      <td>0.808832</td>\n",
       "      <td>0.973627</td>\n",
       "      <td>0.308677</td>\n",
       "      <td>15.297245</td>\n",
       "    </tr>\n",
       "    <tr>\n",
       "      <th>5998</th>\n",
       "      <td>0.364256</td>\n",
       "      <td>0.372446</td>\n",
       "      <td>0.557567</td>\n",
       "      <td>0.438910</td>\n",
       "      <td>0.958014</td>\n",
       "      <td>13.379645</td>\n",
       "    </tr>\n",
       "    <tr>\n",
       "      <th>5999</th>\n",
       "      <td>0.664975</td>\n",
       "      <td>0.271413</td>\n",
       "      <td>0.424459</td>\n",
       "      <td>0.970225</td>\n",
       "      <td>0.530062</td>\n",
       "      <td>17.837759</td>\n",
       "    </tr>\n",
       "  </tbody>\n",
       "</table>\n",
       "<p>6000 rows × 6 columns</p>\n",
       "</div>"
      ],
      "text/plain": [
       "            x0        x1        x2        x3        x4          y\n",
       "0     0.417022  0.720324  0.000114  0.302333  0.146756  16.852205\n",
       "1     0.092339  0.186260  0.345561  0.396767  0.538817   7.678848\n",
       "2     0.419195  0.685220  0.204452  0.878117  0.027388  18.513197\n",
       "3     0.670468  0.417305  0.558690  0.140387  0.198101  10.164178\n",
       "4     0.800745  0.968262  0.313424  0.692323  0.876389  18.487972\n",
       "...        ...       ...       ...       ...       ...        ...\n",
       "5995  0.268587  0.543491  0.970639  0.514137  0.957426  18.785388\n",
       "5996  0.164946  0.827352  0.120207  0.678607  0.315369  15.404909\n",
       "5997  0.285435  0.237089  0.808832  0.973627  0.308677  15.297245\n",
       "5998  0.364256  0.372446  0.557567  0.438910  0.958014  13.379645\n",
       "5999  0.664975  0.271413  0.424459  0.970225  0.530062  17.837759\n",
       "\n",
       "[6000 rows x 6 columns]"
      ]
     },
     "execution_count": 21,
     "metadata": {},
     "output_type": "execute_result"
    }
   ],
   "source": [
    "train"
   ]
  },
  {
   "cell_type": "code",
   "execution_count": 22,
   "metadata": {},
   "outputs": [],
   "source": [
    "# # Make testing set with a different random_state\n",
    "# test, y2 = make_friedman1(n_samples=1000, n_features=5, random_state = 3)\n",
    "# test, y2 = friedman_np_to_df(test,y2)\n",
    "# # train col == 0 because these are test data\n",
    "# test['y'] = y2\n",
    "# test['test'] = [ 1 for i in range( len(test))]\n",
    "\n",
    "# test"
   ]
  },
  {
   "cell_type": "code",
   "execution_count": 23,
   "metadata": {},
   "outputs": [],
   "source": [
    "# train_test_df = pd.concat([train, test])\n",
    "# train_test_df.reset_index(drop = True)"
   ]
  },
  {
   "cell_type": "code",
   "execution_count": 24,
   "metadata": {},
   "outputs": [],
   "source": [
    "train.to_csv(f'train_test_{int(size/1000)}k.csv', index = False)"
   ]
  },
  {
   "cell_type": "code",
   "execution_count": null,
   "metadata": {},
   "outputs": [],
   "source": []
  }
 ],
 "metadata": {
  "kernelspec": {
   "display_name": "Python 3",
   "language": "python",
   "name": "python3"
  },
  "language_info": {
   "codemirror_mode": {
    "name": "ipython",
    "version": 3
   },
   "file_extension": ".py",
   "mimetype": "text/x-python",
   "name": "python",
   "nbconvert_exporter": "python",
   "pygments_lexer": "ipython3",
   "version": "3.8.5"
  }
 },
 "nbformat": 4,
 "nbformat_minor": 4
}
