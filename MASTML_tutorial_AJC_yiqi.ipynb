{
 "cells": [
  {
   "cell_type": "code",
   "execution_count": 1,
   "metadata": {
    "colab": {
     "base_uri": "https://localhost:8080/"
    },
    "id": "xdEXmdzP7kWN",
    "outputId": "5ee68039-de3f-4792-d903-a571c32d8b87"
   },
   "outputs": [],
   "source": [
    "# Begin by cloning the development branch of MAST-ML to the Colab session\n",
    "# !git clone --single-branch --branch dev_Ryan_2020-12-21 https://github.com/uw-cmg/MAST-ML"
   ]
  },
  {
   "cell_type": "code",
   "execution_count": 2,
   "metadata": {
    "colab": {
     "base_uri": "https://localhost:8080/"
    },
    "id": "hqhQ2pXcvCwU",
    "outputId": "416c8021-6f60-466c-c43e-3128343663ac"
   },
   "outputs": [],
   "source": [
    "# Next, we install the required dependencies of MAST-ML to our Colab session\n",
    "# !pip install -r MAST-ML/requirements.txt"
   ]
  },
  {
   "cell_type": "code",
   "execution_count": 3,
   "metadata": {
    "colab": {
     "base_uri": "https://localhost:8080/"
    },
    "id": "w-jHgEAFquSh",
    "outputId": "0700b144-e35a-44b6-f8a8-f80003091882"
   },
   "outputs": [],
   "source": [
    "# Sync your Google drive to Colab so that we can save MAST-ML results to our Google\n",
    "# Drive. If we save to the Colab session, the data will be deleted when the session \n",
    "# ends.\n",
    "# from google.colab import drive\n",
    "# drive.mount('/content/drive', force_remount=True)"
   ]
  },
  {
   "cell_type": "code",
   "execution_count": 144,
   "metadata": {
    "id": "nwQO48j1ws3S"
   },
   "outputs": [],
   "source": [
    "# We need to add the MAST-ML folder to our sys path so that python can find the modules\n",
    "import sys\n",
    "sys.path.append('MAST-ML')\n",
    "import pandas as pd\n",
    "import numpy as np"
   ]
  },
  {
   "cell_type": "code",
   "execution_count": 145,
   "metadata": {
    "colab": {
     "base_uri": "https://localhost:8080/"
    },
    "id": "x8GIei1qQoWL",
    "outputId": "fad6632c-dbac-4eba-80a6-efe1804f8d1f"
   },
   "outputs": [],
   "source": [
    "# Here we import the MAST-ML modules used in this tutorial\n",
    "from mastml.mastml import Mastml\n",
    "from mastml.datasets import LocalDatasets, DataCleaning,  LocalDatasets\n",
    "from mastml.preprocessing import SklearnPreprocessor\n",
    "from mastml.models import SklearnModel\n",
    "from mastml.data_splitters import SklearnDataSplitter, NoSplit\n",
    "from mastml.feature_selectors import EnsembleModelFeatureSelector, NoSelect"
   ]
  },
  {
   "cell_type": "code",
   "execution_count": 160,
   "metadata": {
    "colab": {
     "base_uri": "https://localhost:8080/"
    },
    "id": "Xf8MFHjlM7Oe",
    "outputId": "43f0f619-b04a-4f33-906f-0496e47c54bb"
   },
   "outputs": [],
   "source": [
    "# Set the name of the savepath to save MAST-ML results to\n",
    "# SAVEPATH = 'drive/MyDrive/MASTML_results_2021-03-01'\n",
    "SAVEPATH = '/Users/bernie/Desktop/course_material/SUMMER21/skunk_summer/June/MASTML_Fried_6ktest10'\n",
    "# Initialize the MAST-ML run, write savepath\n",
    "mastml = Mastml(savepath=SAVEPATH)\n",
    "savepath = mastml.get_savepath"
   ]
  },
  {
   "cell_type": "code",
   "execution_count": 161,
   "metadata": {},
   "outputs": [
    {
     "data": {
      "text/plain": [
       "'/Users/bernie/Desktop/course_material/SUMMER21/skunk_summer/June/MASTML_Fried_6ktest10'"
      ]
     },
     "execution_count": 161,
     "metadata": {},
     "output_type": "execute_result"
    }
   ],
   "source": [
    "savepath"
   ]
  },
  {
   "cell_type": "code",
   "execution_count": 162,
   "metadata": {},
   "outputs": [
    {
     "data": {
      "text/plain": [
       "'./data/fried_6k_test10.csv'"
      ]
     },
     "execution_count": 162,
     "metadata": {},
     "output_type": "execute_result"
    }
   ],
   "source": [
    "import os\n",
    "path = os.path.join('./data','fried_6k_test10.csv') # Supercon_data_features_selected.xlsx\n",
    "path"
   ]
  },
  {
   "cell_type": "code",
   "execution_count": 163,
   "metadata": {},
   "outputs": [
    {
     "data": {
      "text/html": [
       "<div>\n",
       "<style scoped>\n",
       "    .dataframe tbody tr th:only-of-type {\n",
       "        vertical-align: middle;\n",
       "    }\n",
       "\n",
       "    .dataframe tbody tr th {\n",
       "        vertical-align: top;\n",
       "    }\n",
       "\n",
       "    .dataframe thead th {\n",
       "        text-align: right;\n",
       "    }\n",
       "</style>\n",
       "<table border=\"1\" class=\"dataframe\">\n",
       "  <thead>\n",
       "    <tr style=\"text-align: right;\">\n",
       "      <th></th>\n",
       "      <th>x0</th>\n",
       "      <th>x1</th>\n",
       "      <th>x2</th>\n",
       "      <th>x3</th>\n",
       "      <th>x4</th>\n",
       "      <th>y</th>\n",
       "    </tr>\n",
       "  </thead>\n",
       "  <tbody>\n",
       "    <tr>\n",
       "      <th>0</th>\n",
       "      <td>0.205116</td>\n",
       "      <td>0.707143</td>\n",
       "      <td>0.624922</td>\n",
       "      <td>0.756035</td>\n",
       "      <td>0.299970</td>\n",
       "      <td>13.773013</td>\n",
       "    </tr>\n",
       "    <tr>\n",
       "      <th>1</th>\n",
       "      <td>0.423566</td>\n",
       "      <td>0.283326</td>\n",
       "      <td>0.491772</td>\n",
       "      <td>0.397476</td>\n",
       "      <td>0.753117</td>\n",
       "      <td>11.423156</td>\n",
       "    </tr>\n",
       "    <tr>\n",
       "      <th>2</th>\n",
       "      <td>0.202296</td>\n",
       "      <td>0.358321</td>\n",
       "      <td>0.325332</td>\n",
       "      <td>0.933607</td>\n",
       "      <td>0.472139</td>\n",
       "      <td>14.564564</td>\n",
       "    </tr>\n",
       "    <tr>\n",
       "      <th>3</th>\n",
       "      <td>0.213097</td>\n",
       "      <td>0.765921</td>\n",
       "      <td>0.556923</td>\n",
       "      <td>0.397080</td>\n",
       "      <td>0.568637</td>\n",
       "      <td>11.784602</td>\n",
       "    </tr>\n",
       "    <tr>\n",
       "      <th>4</th>\n",
       "      <td>0.613091</td>\n",
       "      <td>0.602007</td>\n",
       "      <td>0.896572</td>\n",
       "      <td>0.026473</td>\n",
       "      <td>0.419895</td>\n",
       "      <td>14.675679</td>\n",
       "    </tr>\n",
       "    <tr>\n",
       "      <th>...</th>\n",
       "      <td>...</td>\n",
       "      <td>...</td>\n",
       "      <td>...</td>\n",
       "      <td>...</td>\n",
       "      <td>...</td>\n",
       "      <td>...</td>\n",
       "    </tr>\n",
       "    <tr>\n",
       "      <th>3295</th>\n",
       "      <td>0.963984</td>\n",
       "      <td>0.155984</td>\n",
       "      <td>0.983608</td>\n",
       "      <td>0.081212</td>\n",
       "      <td>0.039612</td>\n",
       "      <td>10.237858</td>\n",
       "    </tr>\n",
       "    <tr>\n",
       "      <th>3296</th>\n",
       "      <td>0.987380</td>\n",
       "      <td>0.962316</td>\n",
       "      <td>0.997030</td>\n",
       "      <td>0.732961</td>\n",
       "      <td>0.031129</td>\n",
       "      <td>13.985048</td>\n",
       "    </tr>\n",
       "    <tr>\n",
       "      <th>3297</th>\n",
       "      <td>0.134506</td>\n",
       "      <td>0.007682</td>\n",
       "      <td>0.982191</td>\n",
       "      <td>0.047674</td>\n",
       "      <td>0.105378</td>\n",
       "      <td>5.686248</td>\n",
       "    </tr>\n",
       "    <tr>\n",
       "      <th>3298</th>\n",
       "      <td>0.998521</td>\n",
       "      <td>0.139649</td>\n",
       "      <td>0.070542</td>\n",
       "      <td>0.073467</td>\n",
       "      <td>0.014744</td>\n",
       "      <td>8.739013</td>\n",
       "    </tr>\n",
       "    <tr>\n",
       "      <th>3299</th>\n",
       "      <td>0.949922</td>\n",
       "      <td>0.918340</td>\n",
       "      <td>0.935722</td>\n",
       "      <td>0.999851</td>\n",
       "      <td>0.958992</td>\n",
       "      <td>22.494125</td>\n",
       "    </tr>\n",
       "  </tbody>\n",
       "</table>\n",
       "<p>3300 rows × 6 columns</p>\n",
       "</div>"
      ],
      "text/plain": [
       "            x0        x1        x2        x3        x4          y\n",
       "0     0.205116  0.707143  0.624922  0.756035  0.299970  13.773013\n",
       "1     0.423566  0.283326  0.491772  0.397476  0.753117  11.423156\n",
       "2     0.202296  0.358321  0.325332  0.933607  0.472139  14.564564\n",
       "3     0.213097  0.765921  0.556923  0.397080  0.568637  11.784602\n",
       "4     0.613091  0.602007  0.896572  0.026473  0.419895  14.675679\n",
       "...        ...       ...       ...       ...       ...        ...\n",
       "3295  0.963984  0.155984  0.983608  0.081212  0.039612  10.237858\n",
       "3296  0.987380  0.962316  0.997030  0.732961  0.031129  13.985048\n",
       "3297  0.134506  0.007682  0.982191  0.047674  0.105378   5.686248\n",
       "3298  0.998521  0.139649  0.070542  0.073467  0.014744   8.739013\n",
       "3299  0.949922  0.918340  0.935722  0.999851  0.958992  22.494125\n",
       "\n",
       "[3300 rows x 6 columns]"
      ]
     },
     "execution_count": 163,
     "metadata": {},
     "output_type": "execute_result"
    }
   ],
   "source": [
    "total_df = pd.read_csv(path)\n",
    "features = list(total_df.columns)[:-1] \n",
    "total_df = total_df[features]\n",
    "total_df"
   ]
  },
  {
   "cell_type": "code",
   "execution_count": 164,
   "metadata": {},
   "outputs": [
    {
     "data": {
      "text/plain": [
       "6"
      ]
     },
     "execution_count": 164,
     "metadata": {},
     "output_type": "execute_result"
    }
   ],
   "source": [
    "len( features )"
   ]
  },
  {
   "cell_type": "code",
   "execution_count": 165,
   "metadata": {},
   "outputs": [
    {
     "data": {
      "text/plain": [
       "array([[3000, 3001, 3002, 3003, 3004, 3005, 3006, 3007, 3008, 3009, 3010,\n",
       "        3011, 3012, 3013, 3014, 3015, 3016, 3017, 3018, 3019, 3020, 3021,\n",
       "        3022, 3023, 3024, 3025, 3026, 3027, 3028, 3029, 3030, 3031, 3032,\n",
       "        3033, 3034, 3035, 3036, 3037, 3038, 3039, 3040, 3041, 3042, 3043,\n",
       "        3044, 3045, 3046, 3047, 3048, 3049, 3050, 3051, 3052, 3053, 3054,\n",
       "        3055, 3056, 3057, 3058, 3059, 3060, 3061, 3062, 3063, 3064, 3065,\n",
       "        3066, 3067, 3068, 3069, 3070, 3071, 3072, 3073, 3074, 3075, 3076,\n",
       "        3077, 3078, 3079, 3080, 3081, 3082, 3083, 3084, 3085, 3086, 3087,\n",
       "        3088, 3089, 3090, 3091, 3092, 3093, 3094, 3095, 3096, 3097, 3098,\n",
       "        3099, 3100, 3101, 3102, 3103, 3104, 3105, 3106, 3107, 3108, 3109,\n",
       "        3110, 3111, 3112, 3113, 3114, 3115, 3116, 3117, 3118, 3119, 3120,\n",
       "        3121, 3122, 3123, 3124, 3125, 3126, 3127, 3128, 3129, 3130, 3131,\n",
       "        3132, 3133, 3134, 3135, 3136, 3137, 3138, 3139, 3140, 3141, 3142,\n",
       "        3143, 3144, 3145, 3146, 3147, 3148, 3149, 3150, 3151, 3152, 3153,\n",
       "        3154, 3155, 3156, 3157, 3158, 3159, 3160, 3161, 3162, 3163, 3164,\n",
       "        3165, 3166, 3167, 3168, 3169, 3170, 3171, 3172, 3173, 3174, 3175,\n",
       "        3176, 3177, 3178, 3179, 3180, 3181, 3182, 3183, 3184, 3185, 3186,\n",
       "        3187, 3188, 3189, 3190, 3191, 3192, 3193, 3194, 3195, 3196, 3197,\n",
       "        3198, 3199, 3200, 3201, 3202, 3203, 3204, 3205, 3206, 3207, 3208,\n",
       "        3209, 3210, 3211, 3212, 3213, 3214, 3215, 3216, 3217, 3218, 3219,\n",
       "        3220, 3221, 3222, 3223, 3224, 3225, 3226, 3227, 3228, 3229, 3230,\n",
       "        3231, 3232, 3233, 3234, 3235, 3236, 3237, 3238, 3239, 3240, 3241,\n",
       "        3242, 3243, 3244, 3245, 3246, 3247, 3248, 3249, 3250, 3251, 3252,\n",
       "        3253, 3254, 3255, 3256, 3257, 3258, 3259, 3260, 3261, 3262, 3263,\n",
       "        3264, 3265, 3266, 3267, 3268, 3269, 3270, 3271, 3272, 3273, 3274,\n",
       "        3275, 3276, 3277, 3278, 3279, 3280, 3281, 3282, 3283, 3284, 3285,\n",
       "        3286, 3287, 3288, 3289, 3290, 3291, 3292, 3293, 3294, 3295, 3296,\n",
       "        3297, 3298, 3299]])"
      ]
     },
     "execution_count": 165,
     "metadata": {},
     "output_type": "execute_result"
    }
   ],
   "source": [
    "# ds = LocalDatasets('friedman_data_200*3_sortx0.csv',\n",
    "#                     feature_names = ['x0','x1', 'x2', 'x3', 'x4'],\n",
    "#                     target = 'y',\n",
    "#                     testdata_columns = ['X0'])\n",
    "ds = LocalDatasets( path, # path to the csv file include train and test data\n",
    "                    feature_names = features , # features we want to fit with the model\n",
    "                    target = 'y',              # targeted value is y\n",
    "                    testdata_columns = ['leave_out']  # the column specifies leaveout (0:train, 1: test)\n",
    "                  )\n",
    "df = ds.load_data()\n",
    "df['X_testdata'] # it has the index for each test data in our entire dataset"
   ]
  },
  {
   "cell_type": "code",
   "execution_count": null,
   "metadata": {},
   "outputs": [],
   "source": []
  },
  {
   "cell_type": "code",
   "execution_count": 166,
   "metadata": {},
   "outputs": [],
   "source": [
    "from sklearn.datasets import make_friedman1\n",
    "import pandas as pd\n",
    "\n",
    "def friedman_np_to_df(X,y):\n",
    "    return pd.DataFrame(X, columns= features), pd.Series(y)\n",
    "X = df['X']\n",
    "y = df['y']\n",
    "X,y = friedman_np_to_df(X,y)\n",
    "\n",
    "leave_indicies = df['X_testdata']\n",
    "# since leaveout_inds of MASTML requires format: [array([a,b,c])]\n",
    "# instead of np.array([ [a,b,c] ]), we reconstruct it\n",
    "X_test = [ leave_indicies[0] ]"
   ]
  },
  {
   "cell_type": "code",
   "execution_count": 167,
   "metadata": {},
   "outputs": [
    {
     "data": {
      "text/plain": [
       "[array([3000, 3001, 3002, 3003, 3004, 3005, 3006, 3007, 3008, 3009, 3010,\n",
       "        3011, 3012, 3013, 3014, 3015, 3016, 3017, 3018, 3019, 3020, 3021,\n",
       "        3022, 3023, 3024, 3025, 3026, 3027, 3028, 3029, 3030, 3031, 3032,\n",
       "        3033, 3034, 3035, 3036, 3037, 3038, 3039, 3040, 3041, 3042, 3043,\n",
       "        3044, 3045, 3046, 3047, 3048, 3049, 3050, 3051, 3052, 3053, 3054,\n",
       "        3055, 3056, 3057, 3058, 3059, 3060, 3061, 3062, 3063, 3064, 3065,\n",
       "        3066, 3067, 3068, 3069, 3070, 3071, 3072, 3073, 3074, 3075, 3076,\n",
       "        3077, 3078, 3079, 3080, 3081, 3082, 3083, 3084, 3085, 3086, 3087,\n",
       "        3088, 3089, 3090, 3091, 3092, 3093, 3094, 3095, 3096, 3097, 3098,\n",
       "        3099, 3100, 3101, 3102, 3103, 3104, 3105, 3106, 3107, 3108, 3109,\n",
       "        3110, 3111, 3112, 3113, 3114, 3115, 3116, 3117, 3118, 3119, 3120,\n",
       "        3121, 3122, 3123, 3124, 3125, 3126, 3127, 3128, 3129, 3130, 3131,\n",
       "        3132, 3133, 3134, 3135, 3136, 3137, 3138, 3139, 3140, 3141, 3142,\n",
       "        3143, 3144, 3145, 3146, 3147, 3148, 3149, 3150, 3151, 3152, 3153,\n",
       "        3154, 3155, 3156, 3157, 3158, 3159, 3160, 3161, 3162, 3163, 3164,\n",
       "        3165, 3166, 3167, 3168, 3169, 3170, 3171, 3172, 3173, 3174, 3175,\n",
       "        3176, 3177, 3178, 3179, 3180, 3181, 3182, 3183, 3184, 3185, 3186,\n",
       "        3187, 3188, 3189, 3190, 3191, 3192, 3193, 3194, 3195, 3196, 3197,\n",
       "        3198, 3199, 3200, 3201, 3202, 3203, 3204, 3205, 3206, 3207, 3208,\n",
       "        3209, 3210, 3211, 3212, 3213, 3214, 3215, 3216, 3217, 3218, 3219,\n",
       "        3220, 3221, 3222, 3223, 3224, 3225, 3226, 3227, 3228, 3229, 3230,\n",
       "        3231, 3232, 3233, 3234, 3235, 3236, 3237, 3238, 3239, 3240, 3241,\n",
       "        3242, 3243, 3244, 3245, 3246, 3247, 3248, 3249, 3250, 3251, 3252,\n",
       "        3253, 3254, 3255, 3256, 3257, 3258, 3259, 3260, 3261, 3262, 3263,\n",
       "        3264, 3265, 3266, 3267, 3268, 3269, 3270, 3271, 3272, 3273, 3274,\n",
       "        3275, 3276, 3277, 3278, 3279, 3280, 3281, 3282, 3283, 3284, 3285,\n",
       "        3286, 3287, 3288, 3289, 3290, 3291, 3292, 3293, 3294, 3295, 3296,\n",
       "        3297, 3298, 3299])]"
      ]
     },
     "execution_count": 167,
     "metadata": {},
     "output_type": "execute_result"
    }
   ],
   "source": [
    "X_test"
   ]
  },
  {
   "cell_type": "code",
   "execution_count": 168,
   "metadata": {},
   "outputs": [],
   "source": [
    "# below is the setup, just run it"
   ]
  },
  {
   "cell_type": "code",
   "execution_count": 169,
   "metadata": {
    "id": "GZ0eK7wHySen"
   },
   "outputs": [],
   "source": [
    "\n",
    "# Here is where we can specify some of the core MAST-ML options, like how to \n",
    "# preprocess our data, what models to use in fitting, and how to select features.\n",
    "# In addition, we would also specify how to optimize model hyperparameters, but\n",
    "# we don't need to do that for this first tutorial. Lastly, we can decide which\n",
    "# metrics to evaluate in our fits.\n",
    "\n",
    "# Here, we define two models. The first is a random forest model, the second is\n",
    "# a Gaussian process model. The scikit-learn model name can just be given as\n",
    "# a string matching the model name in the \"model\" field. The remaining arguments\n",
    "# are the parameters to pass to the model. If no parameters are given, default\n",
    "# values are used.\n",
    "# model1 = SklearnModel(model='RandomForestRegressor', n_estimators=150, max_depth=30)\n",
    "model1 = SklearnModel(model='RandomForestRegressor', n_estimators=500, max_depth=30)\n",
    "model2 = SklearnModel(model='GaussianProcessRegressor', kernel='ConstantKernel*RBF', n_restarts_optimizer=10)\n",
    "# MAST-ML takes a list of the models as input.\n",
    "models = [model1, model2]\n",
    "# models = [model1]\n",
    "# Here, we define our preprocessing function. We are just going to use the basic\n",
    "# StandardScaler in scikit-learn to normalize each column to have mean zero and\n",
    "# standard deviation of one.\n",
    "preprocessor = SklearnPreprocessor(preprocessor='StandardScaler', as_frame=True)\n",
    "\n",
    "# Next, we define a couple ways to select features. The first method, NoSelect,\n",
    "# just uses all features in the X feature set. The second method, EnsembleModelFeatureSelector,\n",
    "# uses a random forest model to select the top (here, 20) features based on \n",
    "# ranked random forest feature importance scores.\n",
    "selector1 = NoSelect()\n",
    "selector2 = EnsembleModelFeatureSelector(model=SklearnModel(model='RandomForestRegressor'), n_features_to_select=20)\n",
    "selectors = [selector1, selector2]\n",
    "\n",
    "# Finally, we list which metrics we want to evaluate. If none are given, MAST-ML\n",
    "# will default to evaulating just the mean absolute error. A complete list of \n",
    "# metrics can be obtained from calling Metrics()._metric_zoo() in metrics.py.\n",
    "metrics = ['r2_score', 'mean_absolute_error', 'root_mean_squared_error', 'rmse_over_stdev']\n",
    "\n"
   ]
  },
  {
   "cell_type": "code",
   "execution_count": 170,
   "metadata": {
    "id": "svALcnnCzQ2O"
   },
   "outputs": [],
   "source": [
    "# As a first run, we want to define and run the case where no data split is \n",
    "# performed. This represents a full fit to all of the data. We will fit both our\n",
    "# random forest and Gaussian process model, but just for the case where all\n",
    "# features are used.\n",
    "\n",
    "# splitter = NoSplit()\n",
    "# splitter.evaluate(X=X,\n",
    "#                   y=y, \n",
    "#                   models=models,\n",
    "#                   preprocessor=preprocessor,\n",
    "#                   selectors=[selector1],\n",
    "#                   metrics=metrics,\n",
    "#                   savepath=savepath,\n",
    "# #                   X_extra=X_extra,\n",
    "#                   verbosity=3)"
   ]
  },
  {
   "cell_type": "code",
   "execution_count": 171,
   "metadata": {
    "id": "3-urmYsIzU7H"
   },
   "outputs": [],
   "source": [
    "# Next, we want to do something a bit more informative. We will do a random \n",
    "# leave-out cross validation test (5-fold CV). MAST-ML will output data and plots\n",
    "# for each split as well as some more comprehensive analysis performed over all\n",
    "# splits. The saved model and preprocessor corresponding to the best split will\n",
    "# also be put in the split directory, which can be imported for use in future\n",
    "# predictions \n",
    "\n",
    "# splitter = SklearnDataSplitter(splitter='RepeatedKFold', n_repeats=1, n_splits=5)\n",
    "# splitter.evaluate(X=X,\n",
    "#                   y=y, \n",
    "#                   models=models,\n",
    "#                   preprocessor=preprocessor,\n",
    "#                   selectors=[selector2],\n",
    "#                   metrics=metrics,\n",
    "#                   plots=['Scatter', 'Histogram'],\n",
    "#                   savepath=savepath,\n",
    "# #                   X_extra=X_extra,\n",
    "#                   verbosity=3)"
   ]
  },
  {
   "cell_type": "code",
   "execution_count": 172,
   "metadata": {
    "id": "5Eagr4cZ7H23"
   },
   "outputs": [],
   "source": [
    "# Randomly leaving out data isn't the only way to assess model performance. This\n",
    "# dataset has logical groupings based on which element is the host. So, we can\n",
    "# do another cross validation test where this time we leave out each host once.\n",
    "# Let's test just our random forest model with the leave out group CV method.\n",
    "\n",
    "# splitter = SklearnDataSplitter(splitter='LeaveOneGroupOut')\n",
    "# splitter.evaluate(X=X,\n",
    "#                   y=y, \n",
    "#                   models=[model1],\n",
    "#                   preprocessor=preprocessor,\n",
    "#                   groups=groups,\n",
    "#                   selectors=[selector2],\n",
    "#                   metrics=metrics,\n",
    "#                   plots=['Scatter', 'Histogram'],\n",
    "#                   savepath=savepath,\n",
    "#                   X_extra=X_extra,\n",
    "#                   verbosity=3)"
   ]
  },
  {
   "cell_type": "code",
   "execution_count": 173,
   "metadata": {
    "colab": {
     "base_uri": "https://localhost:8080/"
    },
    "id": "ZJS2DSdp0ET-",
    "outputId": "0744a6e4-061b-4019-9058-0a1831f07008"
   },
   "outputs": [
    {
     "name": "stdout",
     "output_type": "stream",
     "text": [
      "NLL optimization successful!\n",
      "NLL optimization successful!\n"
     ]
    }
   ],
   "source": [
    "# Now lets use just random forest and the full feature set to do random leave out CV, \n",
    "# but let's do a nested variant so we can recalibrate the predicted random forest errors.\n",
    "# This will allow us to more deeply assess the uncertainty estimates of the \n",
    "# random forest model, and see that they would benefit from a correction scheme,\n",
    "# which in this case is applied following the method of Palmer et al.\n",
    "#\n",
    "\n",
    "splitter = SklearnDataSplitter(splitter='RepeatedKFold', n_repeats=1, n_splits=3)\n",
    "splitter.evaluate(X=X,\n",
    "                  y=y, \n",
    "                  models=[model1],\n",
    "                  preprocessor=preprocessor,\n",
    "                  selectors=[selector1],\n",
    "                  metrics=metrics,\n",
    "                  plots=['Error'],\n",
    "                  savepath=savepath,\n",
    "                  leaveout_inds = X_test, # IMPORTANT, if we include leaveout_inds, we specify test data for MASTAML\n",
    "                  #X_extra=X_extra,\n",
    "                  nested_CV= False, # I turn this off to make sure that it does not do nested cross val, reduce time perhaps.\n",
    "                  error_method='stdev_weak_learners', #stdev_weak_learners, jackknife_after_bootstrap\n",
    "                  recalibrate_errors=True,\n",
    "                  verbosity=2)"
   ]
  },
  {
   "cell_type": "code",
   "execution_count": 55,
   "metadata": {},
   "outputs": [
    {
     "name": "stdout",
     "output_type": "stream",
     "text": [
      "NLL optimization successful!\n",
      "NLL optimization successful!\n",
      "NLL optimization successful!\n",
      "NLL optimization successful!\n",
      "NLL optimization successful!\n",
      "NLL optimization successful!\n",
      "NLL optimization successful!\n",
      "NLL optimization successful!\n",
      "NLL optimization successful!\n",
      "NLL optimization successful!\n",
      "NLL optimization successful!\n",
      "NLL optimization successful!\n"
     ]
    }
   ],
   "source": [
    "# splitter = SklearnDataSplitter(splitter='RepeatedKFold', n_repeats=2, n_splits=3)\n",
    "# splitter.evaluate(X=X,\n",
    "#                   y=y, \n",
    "#                   models=[model1],\n",
    "#                   preprocessor=preprocessor,\n",
    "#                   selectors=[selector1],\n",
    "#                   metrics=metrics,\n",
    "#                   plots=['Error'],\n",
    "#                   savepath=savepath,\n",
    "# #                   leaveout_inds = X_test,\n",
    "#                   #X_extra=X_extra,\n",
    "#                   nested_CV= True,\n",
    "#                   error_method='stdev_weak_learners', #stdev_weak_learners, jackknife_after_bootstrap\n",
    "#                   recalibrate_errors=True,\n",
    "#                   verbosity=2)"
   ]
  },
  {
   "cell_type": "code",
   "execution_count": 52,
   "metadata": {
    "id": "S9kZ4X7pA9rU"
   },
   "outputs": [],
   "source": [
    "cali_mod_err_path = '/Users/bernie/Desktop/course_material/SP21/SKUNK/week7/save_03_06_18_02_15/RandomForestRegressor_RepeatedKFold_SklearnPreprocessor_NoSelect_03_06_18_02_48/model_errors_leaveout_calibrated.xlsx'\n",
    "cali_mod_err= pd.read_excel(cali_mod_err_path)\n",
    "cali_mod_res_path = '/Users/bernie/Desktop/course_material/SP21/SKUNK/week7/save_03_06_18_02_15/RandomForestRegressor_RepeatedKFold_SklearnPreprocessor_NoSelect_03_06_18_02_48/residuals_leaveout.xlsx'\n",
    "res = pd.read_excel(cali_mod_res_path)"
   ]
  },
  {
   "cell_type": "code",
   "execution_count": 53,
   "metadata": {
    "colab": {
     "base_uri": "https://localhost:8080/",
     "height": 406
    },
    "id": "UrOhuNy1DZU0",
    "outputId": "4562ad00-3282-46f7-e37e-3740aa345b3a"
   },
   "outputs": [
    {
     "data": {
      "text/html": [
       "<div>\n",
       "<style scoped>\n",
       "    .dataframe tbody tr th:only-of-type {\n",
       "        vertical-align: middle;\n",
       "    }\n",
       "\n",
       "    .dataframe tbody tr th {\n",
       "        vertical-align: top;\n",
       "    }\n",
       "\n",
       "    .dataframe thead th {\n",
       "        text-align: right;\n",
       "    }\n",
       "</style>\n",
       "<table border=\"1\" class=\"dataframe\">\n",
       "  <thead>\n",
       "    <tr style=\"text-align: right;\">\n",
       "      <th></th>\n",
       "      <th>model_errors</th>\n",
       "    </tr>\n",
       "  </thead>\n",
       "  <tbody>\n",
       "    <tr>\n",
       "      <th>0</th>\n",
       "      <td>1.733700</td>\n",
       "    </tr>\n",
       "    <tr>\n",
       "      <th>1</th>\n",
       "      <td>1.643457</td>\n",
       "    </tr>\n",
       "    <tr>\n",
       "      <th>2</th>\n",
       "      <td>1.682653</td>\n",
       "    </tr>\n",
       "    <tr>\n",
       "      <th>3</th>\n",
       "      <td>1.637061</td>\n",
       "    </tr>\n",
       "    <tr>\n",
       "      <th>4</th>\n",
       "      <td>1.794367</td>\n",
       "    </tr>\n",
       "    <tr>\n",
       "      <th>...</th>\n",
       "      <td>...</td>\n",
       "    </tr>\n",
       "    <tr>\n",
       "      <th>995</th>\n",
       "      <td>1.636883</td>\n",
       "    </tr>\n",
       "    <tr>\n",
       "      <th>996</th>\n",
       "      <td>1.596815</td>\n",
       "    </tr>\n",
       "    <tr>\n",
       "      <th>997</th>\n",
       "      <td>1.657442</td>\n",
       "    </tr>\n",
       "    <tr>\n",
       "      <th>998</th>\n",
       "      <td>1.613850</td>\n",
       "    </tr>\n",
       "    <tr>\n",
       "      <th>999</th>\n",
       "      <td>1.778609</td>\n",
       "    </tr>\n",
       "  </tbody>\n",
       "</table>\n",
       "<p>1000 rows × 1 columns</p>\n",
       "</div>"
      ],
      "text/plain": [
       "     model_errors\n",
       "0        1.733700\n",
       "1        1.643457\n",
       "2        1.682653\n",
       "3        1.637061\n",
       "4        1.794367\n",
       "..            ...\n",
       "995      1.636883\n",
       "996      1.596815\n",
       "997      1.657442\n",
       "998      1.613850\n",
       "999      1.778609\n",
       "\n",
       "[1000 rows x 1 columns]"
      ]
     },
     "execution_count": 53,
     "metadata": {},
     "output_type": "execute_result"
    }
   ],
   "source": [
    "cali_mod_err"
   ]
  },
  {
   "cell_type": "code",
   "execution_count": 54,
   "metadata": {
    "id": "wPccykAfFhGo"
   },
   "outputs": [
    {
     "data": {
      "text/html": [
       "<div>\n",
       "<style scoped>\n",
       "    .dataframe tbody tr th:only-of-type {\n",
       "        vertical-align: middle;\n",
       "    }\n",
       "\n",
       "    .dataframe tbody tr th {\n",
       "        vertical-align: top;\n",
       "    }\n",
       "\n",
       "    .dataframe thead th {\n",
       "        text-align: right;\n",
       "    }\n",
       "</style>\n",
       "<table border=\"1\" class=\"dataframe\">\n",
       "  <thead>\n",
       "    <tr style=\"text-align: right;\">\n",
       "      <th></th>\n",
       "      <th>residuals</th>\n",
       "    </tr>\n",
       "  </thead>\n",
       "  <tbody>\n",
       "    <tr>\n",
       "      <th>0</th>\n",
       "      <td>-2.331637</td>\n",
       "    </tr>\n",
       "    <tr>\n",
       "      <th>1</th>\n",
       "      <td>0.807427</td>\n",
       "    </tr>\n",
       "    <tr>\n",
       "      <th>2</th>\n",
       "      <td>2.347756</td>\n",
       "    </tr>\n",
       "    <tr>\n",
       "      <th>3</th>\n",
       "      <td>-0.618770</td>\n",
       "    </tr>\n",
       "    <tr>\n",
       "      <th>4</th>\n",
       "      <td>0.176837</td>\n",
       "    </tr>\n",
       "    <tr>\n",
       "      <th>...</th>\n",
       "      <td>...</td>\n",
       "    </tr>\n",
       "    <tr>\n",
       "      <th>995</th>\n",
       "      <td>-1.559272</td>\n",
       "    </tr>\n",
       "    <tr>\n",
       "      <th>996</th>\n",
       "      <td>-4.007684</td>\n",
       "    </tr>\n",
       "    <tr>\n",
       "      <th>997</th>\n",
       "      <td>0.353475</td>\n",
       "    </tr>\n",
       "    <tr>\n",
       "      <th>998</th>\n",
       "      <td>-0.433831</td>\n",
       "    </tr>\n",
       "    <tr>\n",
       "      <th>999</th>\n",
       "      <td>-0.739631</td>\n",
       "    </tr>\n",
       "  </tbody>\n",
       "</table>\n",
       "<p>1000 rows × 1 columns</p>\n",
       "</div>"
      ],
      "text/plain": [
       "     residuals\n",
       "0    -2.331637\n",
       "1     0.807427\n",
       "2     2.347756\n",
       "3    -0.618770\n",
       "4     0.176837\n",
       "..         ...\n",
       "995  -1.559272\n",
       "996  -4.007684\n",
       "997   0.353475\n",
       "998  -0.433831\n",
       "999  -0.739631\n",
       "\n",
       "[1000 rows x 1 columns]"
      ]
     },
     "execution_count": 54,
     "metadata": {},
     "output_type": "execute_result"
    }
   ],
   "source": [
    "res"
   ]
  },
  {
   "cell_type": "code",
   "execution_count": 56,
   "metadata": {},
   "outputs": [
    {
     "data": {
      "text/html": [
       "<div>\n",
       "<style scoped>\n",
       "    .dataframe tbody tr th:only-of-type {\n",
       "        vertical-align: middle;\n",
       "    }\n",
       "\n",
       "    .dataframe tbody tr th {\n",
       "        vertical-align: top;\n",
       "    }\n",
       "\n",
       "    .dataframe thead th {\n",
       "        text-align: right;\n",
       "    }\n",
       "</style>\n",
       "<table border=\"1\" class=\"dataframe\">\n",
       "  <thead>\n",
       "    <tr style=\"text-align: right;\">\n",
       "      <th></th>\n",
       "      <th>x0</th>\n",
       "      <th>x1</th>\n",
       "      <th>x2</th>\n",
       "      <th>x3</th>\n",
       "      <th>x4</th>\n",
       "    </tr>\n",
       "  </thead>\n",
       "  <tbody>\n",
       "    <tr>\n",
       "      <th>0</th>\n",
       "      <td>0.417022</td>\n",
       "      <td>0.720324</td>\n",
       "      <td>0.000114</td>\n",
       "      <td>0.302333</td>\n",
       "      <td>0.146756</td>\n",
       "    </tr>\n",
       "    <tr>\n",
       "      <th>1</th>\n",
       "      <td>0.092339</td>\n",
       "      <td>0.186260</td>\n",
       "      <td>0.345561</td>\n",
       "      <td>0.396767</td>\n",
       "      <td>0.538817</td>\n",
       "    </tr>\n",
       "    <tr>\n",
       "      <th>2</th>\n",
       "      <td>0.419195</td>\n",
       "      <td>0.685220</td>\n",
       "      <td>0.204452</td>\n",
       "      <td>0.878117</td>\n",
       "      <td>0.027388</td>\n",
       "    </tr>\n",
       "    <tr>\n",
       "      <th>3</th>\n",
       "      <td>0.670468</td>\n",
       "      <td>0.417305</td>\n",
       "      <td>0.558690</td>\n",
       "      <td>0.140387</td>\n",
       "      <td>0.198101</td>\n",
       "    </tr>\n",
       "    <tr>\n",
       "      <th>4</th>\n",
       "      <td>0.800745</td>\n",
       "      <td>0.968262</td>\n",
       "      <td>0.313424</td>\n",
       "      <td>0.692323</td>\n",
       "      <td>0.876389</td>\n",
       "    </tr>\n",
       "    <tr>\n",
       "      <th>...</th>\n",
       "      <td>...</td>\n",
       "      <td>...</td>\n",
       "      <td>...</td>\n",
       "      <td>...</td>\n",
       "      <td>...</td>\n",
       "    </tr>\n",
       "    <tr>\n",
       "      <th>995</th>\n",
       "      <td>0.489336</td>\n",
       "      <td>0.486921</td>\n",
       "      <td>0.570292</td>\n",
       "      <td>0.544508</td>\n",
       "      <td>0.917111</td>\n",
       "    </tr>\n",
       "    <tr>\n",
       "      <th>996</th>\n",
       "      <td>0.884385</td>\n",
       "      <td>0.783719</td>\n",
       "      <td>0.322727</td>\n",
       "      <td>0.784437</td>\n",
       "      <td>0.145185</td>\n",
       "    </tr>\n",
       "    <tr>\n",
       "      <th>997</th>\n",
       "      <td>0.860226</td>\n",
       "      <td>0.773000</td>\n",
       "      <td>0.775967</td>\n",
       "      <td>0.528699</td>\n",
       "      <td>0.450185</td>\n",
       "    </tr>\n",
       "    <tr>\n",
       "      <th>998</th>\n",
       "      <td>0.226631</td>\n",
       "      <td>0.808678</td>\n",
       "      <td>0.965929</td>\n",
       "      <td>0.543532</td>\n",
       "      <td>0.902207</td>\n",
       "    </tr>\n",
       "    <tr>\n",
       "      <th>999</th>\n",
       "      <td>0.282350</td>\n",
       "      <td>0.517755</td>\n",
       "      <td>0.328163</td>\n",
       "      <td>0.991801</td>\n",
       "      <td>0.250317</td>\n",
       "    </tr>\n",
       "  </tbody>\n",
       "</table>\n",
       "<p>1000 rows × 5 columns</p>\n",
       "</div>"
      ],
      "text/plain": [
       "           x0        x1        x2        x3        x4\n",
       "0    0.417022  0.720324  0.000114  0.302333  0.146756\n",
       "1    0.092339  0.186260  0.345561  0.396767  0.538817\n",
       "2    0.419195  0.685220  0.204452  0.878117  0.027388\n",
       "3    0.670468  0.417305  0.558690  0.140387  0.198101\n",
       "4    0.800745  0.968262  0.313424  0.692323  0.876389\n",
       "..        ...       ...       ...       ...       ...\n",
       "995  0.489336  0.486921  0.570292  0.544508  0.917111\n",
       "996  0.884385  0.783719  0.322727  0.784437  0.145185\n",
       "997  0.860226  0.773000  0.775967  0.528699  0.450185\n",
       "998  0.226631  0.808678  0.965929  0.543532  0.902207\n",
       "999  0.282350  0.517755  0.328163  0.991801  0.250317\n",
       "\n",
       "[1000 rows x 5 columns]"
      ]
     },
     "execution_count": 56,
     "metadata": {},
     "output_type": "execute_result"
    }
   ],
   "source": [
    "X"
   ]
  },
  {
   "cell_type": "code",
   "execution_count": 57,
   "metadata": {},
   "outputs": [
    {
     "name": "stdout",
     "output_type": "stream",
     "text": [
      "1\n"
     ]
    }
   ],
   "source": [
    "print('1')"
   ]
  },
  {
   "cell_type": "code",
   "execution_count": null,
   "metadata": {},
   "outputs": [],
   "source": []
  }
 ],
 "metadata": {
  "accelerator": "GPU",
  "colab": {
   "name": "MASTML_tutorial-AJC.ipynb",
   "provenance": []
  },
  "kernelspec": {
   "display_name": "Python 3",
   "language": "python",
   "name": "python3"
  },
  "language_info": {
   "codemirror_mode": {
    "name": "ipython",
    "version": 3
   },
   "file_extension": ".py",
   "mimetype": "text/x-python",
   "name": "python",
   "nbconvert_exporter": "python",
   "pygments_lexer": "ipython3",
   "version": "3.8.5"
  }
 },
 "nbformat": 4,
 "nbformat_minor": 1
}
